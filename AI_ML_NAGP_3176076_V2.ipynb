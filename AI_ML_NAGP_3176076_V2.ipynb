{
  "nbformat": 4,
  "nbformat_minor": 0,
  "metadata": {
    "colab": {
      "provenance": [],
      "authorship_tag": "ABX9TyPBxRLK9WAKnRnCH7f5sVZZ",
      "include_colab_link": true
    },
    "kernelspec": {
      "name": "python3",
      "display_name": "Python 3"
    },
    "language_info": {
      "name": "python"
    }
  },
  "cells": [
    {
      "cell_type": "markdown",
      "metadata": {
        "id": "view-in-github",
        "colab_type": "text"
      },
      "source": [
        "<a href=\"https://colab.research.google.com/github/iyogita/ChatBot_Budget/blob/main/AI_ML_NAGP_3176076_V2.ipynb\" target=\"_parent\"><img src=\"https://colab.research.google.com/assets/colab-badge.svg\" alt=\"Open In Colab\"/></a>"
      ]
    },
    {
      "cell_type": "markdown",
      "source": [
        "AI and ML Assignment for Budget :"
      ],
      "metadata": {
        "id": "O-j3Mh1fgydj"
      }
    },
    {
      "cell_type": "markdown",
      "source": [
        "# Resources Loading"
      ],
      "metadata": {
        "id": "hyKIXZKEyzoN"
      }
    },
    {
      "cell_type": "code",
      "source": [
        "!pip install pdfplumber\n",
        "!pip install sentence-transformers\n",
        "!pip install faiss-cpu\n",
        "!pip install transformers\n",
        "\n",
        "from google.colab import files\n",
        "import pdfplumber\n",
        "import numpy as np\n",
        "from sentence_transformers import SentenceTransformer\n",
        "import faiss\n",
        "from transformers import pipeline, set_seed\n",
        "from collections import deque\n",
        "import time"
      ],
      "metadata": {
        "colab": {
          "base_uri": "https://localhost:8080/"
        },
        "collapsed": true,
        "id": "QxJqo0D6y2Jr",
        "outputId": "a95ee02a-5d5d-4665-8677-1e101239f65b"
      },
      "execution_count": 1,
      "outputs": [
        {
          "output_type": "stream",
          "name": "stdout",
          "text": [
            "Collecting pdfplumber\n",
            "  Downloading pdfplumber-0.11.2-py3-none-any.whl (58 kB)\n",
            "\u001b[2K     \u001b[90m━━━━━━━━━━━━━━━━━━━━━━━━━━━━━━━━━━━━━━━━\u001b[0m \u001b[32m58.0/58.0 kB\u001b[0m \u001b[31m606.0 kB/s\u001b[0m eta \u001b[36m0:00:00\u001b[0m\n",
            "\u001b[?25hCollecting pdfminer.six==20231228 (from pdfplumber)\n",
            "  Downloading pdfminer.six-20231228-py3-none-any.whl (5.6 MB)\n",
            "\u001b[2K     \u001b[90m━━━━━━━━━━━━━━━━━━━━━━━━━━━━━━━━━━━━━━━━\u001b[0m \u001b[32m5.6/5.6 MB\u001b[0m \u001b[31m25.9 MB/s\u001b[0m eta \u001b[36m0:00:00\u001b[0m\n",
            "\u001b[?25hRequirement already satisfied: Pillow>=9.1 in /usr/local/lib/python3.10/dist-packages (from pdfplumber) (9.4.0)\n",
            "Collecting pypdfium2>=4.18.0 (from pdfplumber)\n",
            "  Downloading pypdfium2-4.30.0-py3-none-manylinux_2_17_x86_64.manylinux2014_x86_64.whl (2.8 MB)\n",
            "\u001b[2K     \u001b[90m━━━━━━━━━━━━━━━━━━━━━━━━━━━━━━━━━━━━━━━━\u001b[0m \u001b[32m2.8/2.8 MB\u001b[0m \u001b[31m19.7 MB/s\u001b[0m eta \u001b[36m0:00:00\u001b[0m\n",
            "\u001b[?25hRequirement already satisfied: charset-normalizer>=2.0.0 in /usr/local/lib/python3.10/dist-packages (from pdfminer.six==20231228->pdfplumber) (3.3.2)\n",
            "Requirement already satisfied: cryptography>=36.0.0 in /usr/local/lib/python3.10/dist-packages (from pdfminer.six==20231228->pdfplumber) (42.0.8)\n",
            "Requirement already satisfied: cffi>=1.12 in /usr/local/lib/python3.10/dist-packages (from cryptography>=36.0.0->pdfminer.six==20231228->pdfplumber) (1.16.0)\n",
            "Requirement already satisfied: pycparser in /usr/local/lib/python3.10/dist-packages (from cffi>=1.12->cryptography>=36.0.0->pdfminer.six==20231228->pdfplumber) (2.22)\n",
            "Installing collected packages: pypdfium2, pdfminer.six, pdfplumber\n",
            "Successfully installed pdfminer.six-20231228 pdfplumber-0.11.2 pypdfium2-4.30.0\n",
            "Collecting sentence-transformers\n",
            "  Downloading sentence_transformers-3.0.1-py3-none-any.whl (227 kB)\n",
            "\u001b[2K     \u001b[90m━━━━━━━━━━━━━━━━━━━━━━━━━━━━━━━━━━━━━━━━\u001b[0m \u001b[32m227.1/227.1 kB\u001b[0m \u001b[31m4.2 MB/s\u001b[0m eta \u001b[36m0:00:00\u001b[0m\n",
            "\u001b[?25hRequirement already satisfied: transformers<5.0.0,>=4.34.0 in /usr/local/lib/python3.10/dist-packages (from sentence-transformers) (4.42.4)\n",
            "Requirement already satisfied: tqdm in /usr/local/lib/python3.10/dist-packages (from sentence-transformers) (4.66.4)\n",
            "Requirement already satisfied: torch>=1.11.0 in /usr/local/lib/python3.10/dist-packages (from sentence-transformers) (2.3.1+cu121)\n",
            "Requirement already satisfied: numpy in /usr/local/lib/python3.10/dist-packages (from sentence-transformers) (1.25.2)\n",
            "Requirement already satisfied: scikit-learn in /usr/local/lib/python3.10/dist-packages (from sentence-transformers) (1.2.2)\n",
            "Requirement already satisfied: scipy in /usr/local/lib/python3.10/dist-packages (from sentence-transformers) (1.11.4)\n",
            "Requirement already satisfied: huggingface-hub>=0.15.1 in /usr/local/lib/python3.10/dist-packages (from sentence-transformers) (0.23.4)\n",
            "Requirement already satisfied: Pillow in /usr/local/lib/python3.10/dist-packages (from sentence-transformers) (9.4.0)\n",
            "Requirement already satisfied: filelock in /usr/local/lib/python3.10/dist-packages (from huggingface-hub>=0.15.1->sentence-transformers) (3.15.4)\n",
            "Requirement already satisfied: fsspec>=2023.5.0 in /usr/local/lib/python3.10/dist-packages (from huggingface-hub>=0.15.1->sentence-transformers) (2023.6.0)\n",
            "Requirement already satisfied: packaging>=20.9 in /usr/local/lib/python3.10/dist-packages (from huggingface-hub>=0.15.1->sentence-transformers) (24.1)\n",
            "Requirement already satisfied: pyyaml>=5.1 in /usr/local/lib/python3.10/dist-packages (from huggingface-hub>=0.15.1->sentence-transformers) (6.0.1)\n",
            "Requirement already satisfied: requests in /usr/local/lib/python3.10/dist-packages (from huggingface-hub>=0.15.1->sentence-transformers) (2.31.0)\n",
            "Requirement already satisfied: typing-extensions>=3.7.4.3 in /usr/local/lib/python3.10/dist-packages (from huggingface-hub>=0.15.1->sentence-transformers) (4.12.2)\n",
            "Requirement already satisfied: sympy in /usr/local/lib/python3.10/dist-packages (from torch>=1.11.0->sentence-transformers) (1.13.0)\n",
            "Requirement already satisfied: networkx in /usr/local/lib/python3.10/dist-packages (from torch>=1.11.0->sentence-transformers) (3.3)\n",
            "Requirement already satisfied: jinja2 in /usr/local/lib/python3.10/dist-packages (from torch>=1.11.0->sentence-transformers) (3.1.4)\n",
            "Collecting nvidia-cuda-nvrtc-cu12==12.1.105 (from torch>=1.11.0->sentence-transformers)\n",
            "  Using cached nvidia_cuda_nvrtc_cu12-12.1.105-py3-none-manylinux1_x86_64.whl (23.7 MB)\n",
            "Collecting nvidia-cuda-runtime-cu12==12.1.105 (from torch>=1.11.0->sentence-transformers)\n",
            "  Using cached nvidia_cuda_runtime_cu12-12.1.105-py3-none-manylinux1_x86_64.whl (823 kB)\n",
            "Collecting nvidia-cuda-cupti-cu12==12.1.105 (from torch>=1.11.0->sentence-transformers)\n",
            "  Using cached nvidia_cuda_cupti_cu12-12.1.105-py3-none-manylinux1_x86_64.whl (14.1 MB)\n",
            "Collecting nvidia-cudnn-cu12==8.9.2.26 (from torch>=1.11.0->sentence-transformers)\n",
            "  Using cached nvidia_cudnn_cu12-8.9.2.26-py3-none-manylinux1_x86_64.whl (731.7 MB)\n",
            "Collecting nvidia-cublas-cu12==12.1.3.1 (from torch>=1.11.0->sentence-transformers)\n",
            "  Using cached nvidia_cublas_cu12-12.1.3.1-py3-none-manylinux1_x86_64.whl (410.6 MB)\n",
            "Collecting nvidia-cufft-cu12==11.0.2.54 (from torch>=1.11.0->sentence-transformers)\n",
            "  Using cached nvidia_cufft_cu12-11.0.2.54-py3-none-manylinux1_x86_64.whl (121.6 MB)\n",
            "Collecting nvidia-curand-cu12==10.3.2.106 (from torch>=1.11.0->sentence-transformers)\n",
            "  Using cached nvidia_curand_cu12-10.3.2.106-py3-none-manylinux1_x86_64.whl (56.5 MB)\n",
            "Collecting nvidia-cusolver-cu12==11.4.5.107 (from torch>=1.11.0->sentence-transformers)\n",
            "  Using cached nvidia_cusolver_cu12-11.4.5.107-py3-none-manylinux1_x86_64.whl (124.2 MB)\n",
            "Collecting nvidia-cusparse-cu12==12.1.0.106 (from torch>=1.11.0->sentence-transformers)\n",
            "  Using cached nvidia_cusparse_cu12-12.1.0.106-py3-none-manylinux1_x86_64.whl (196.0 MB)\n",
            "Collecting nvidia-nccl-cu12==2.20.5 (from torch>=1.11.0->sentence-transformers)\n",
            "  Using cached nvidia_nccl_cu12-2.20.5-py3-none-manylinux2014_x86_64.whl (176.2 MB)\n",
            "Collecting nvidia-nvtx-cu12==12.1.105 (from torch>=1.11.0->sentence-transformers)\n",
            "  Using cached nvidia_nvtx_cu12-12.1.105-py3-none-manylinux1_x86_64.whl (99 kB)\n",
            "Requirement already satisfied: triton==2.3.1 in /usr/local/lib/python3.10/dist-packages (from torch>=1.11.0->sentence-transformers) (2.3.1)\n",
            "Collecting nvidia-nvjitlink-cu12 (from nvidia-cusolver-cu12==11.4.5.107->torch>=1.11.0->sentence-transformers)\n",
            "  Downloading nvidia_nvjitlink_cu12-12.5.82-py3-none-manylinux2014_x86_64.whl (21.3 MB)\n",
            "\u001b[2K     \u001b[90m━━━━━━━━━━━━━━━━━━━━━━━━━━━━━━━━━━━━━━━━\u001b[0m \u001b[32m21.3/21.3 MB\u001b[0m \u001b[31m29.8 MB/s\u001b[0m eta \u001b[36m0:00:00\u001b[0m\n",
            "\u001b[?25hRequirement already satisfied: regex!=2019.12.17 in /usr/local/lib/python3.10/dist-packages (from transformers<5.0.0,>=4.34.0->sentence-transformers) (2024.5.15)\n",
            "Requirement already satisfied: safetensors>=0.4.1 in /usr/local/lib/python3.10/dist-packages (from transformers<5.0.0,>=4.34.0->sentence-transformers) (0.4.3)\n",
            "Requirement already satisfied: tokenizers<0.20,>=0.19 in /usr/local/lib/python3.10/dist-packages (from transformers<5.0.0,>=4.34.0->sentence-transformers) (0.19.1)\n",
            "Requirement already satisfied: joblib>=1.1.1 in /usr/local/lib/python3.10/dist-packages (from scikit-learn->sentence-transformers) (1.4.2)\n",
            "Requirement already satisfied: threadpoolctl>=2.0.0 in /usr/local/lib/python3.10/dist-packages (from scikit-learn->sentence-transformers) (3.5.0)\n",
            "Requirement already satisfied: MarkupSafe>=2.0 in /usr/local/lib/python3.10/dist-packages (from jinja2->torch>=1.11.0->sentence-transformers) (2.1.5)\n",
            "Requirement already satisfied: charset-normalizer<4,>=2 in /usr/local/lib/python3.10/dist-packages (from requests->huggingface-hub>=0.15.1->sentence-transformers) (3.3.2)\n",
            "Requirement already satisfied: idna<4,>=2.5 in /usr/local/lib/python3.10/dist-packages (from requests->huggingface-hub>=0.15.1->sentence-transformers) (3.7)\n",
            "Requirement already satisfied: urllib3<3,>=1.21.1 in /usr/local/lib/python3.10/dist-packages (from requests->huggingface-hub>=0.15.1->sentence-transformers) (2.0.7)\n",
            "Requirement already satisfied: certifi>=2017.4.17 in /usr/local/lib/python3.10/dist-packages (from requests->huggingface-hub>=0.15.1->sentence-transformers) (2024.7.4)\n",
            "Requirement already satisfied: mpmath<1.4,>=1.1.0 in /usr/local/lib/python3.10/dist-packages (from sympy->torch>=1.11.0->sentence-transformers) (1.3.0)\n",
            "Installing collected packages: nvidia-nvtx-cu12, nvidia-nvjitlink-cu12, nvidia-nccl-cu12, nvidia-curand-cu12, nvidia-cufft-cu12, nvidia-cuda-runtime-cu12, nvidia-cuda-nvrtc-cu12, nvidia-cuda-cupti-cu12, nvidia-cublas-cu12, nvidia-cusparse-cu12, nvidia-cudnn-cu12, nvidia-cusolver-cu12, sentence-transformers\n",
            "Successfully installed nvidia-cublas-cu12-12.1.3.1 nvidia-cuda-cupti-cu12-12.1.105 nvidia-cuda-nvrtc-cu12-12.1.105 nvidia-cuda-runtime-cu12-12.1.105 nvidia-cudnn-cu12-8.9.2.26 nvidia-cufft-cu12-11.0.2.54 nvidia-curand-cu12-10.3.2.106 nvidia-cusolver-cu12-11.4.5.107 nvidia-cusparse-cu12-12.1.0.106 nvidia-nccl-cu12-2.20.5 nvidia-nvjitlink-cu12-12.5.82 nvidia-nvtx-cu12-12.1.105 sentence-transformers-3.0.1\n",
            "Collecting faiss-cpu\n",
            "  Downloading faiss_cpu-1.8.0.post1-cp310-cp310-manylinux_2_17_x86_64.manylinux2014_x86_64.whl (27.0 MB)\n",
            "\u001b[2K     \u001b[90m━━━━━━━━━━━━━━━━━━━━━━━━━━━━━━━━━━━━━━━━\u001b[0m \u001b[32m27.0/27.0 MB\u001b[0m \u001b[31m50.4 MB/s\u001b[0m eta \u001b[36m0:00:00\u001b[0m\n",
            "\u001b[?25hRequirement already satisfied: numpy<2.0,>=1.0 in /usr/local/lib/python3.10/dist-packages (from faiss-cpu) (1.25.2)\n",
            "Requirement already satisfied: packaging in /usr/local/lib/python3.10/dist-packages (from faiss-cpu) (24.1)\n",
            "Installing collected packages: faiss-cpu\n",
            "Successfully installed faiss-cpu-1.8.0.post1\n",
            "Requirement already satisfied: transformers in /usr/local/lib/python3.10/dist-packages (4.42.4)\n",
            "Requirement already satisfied: filelock in /usr/local/lib/python3.10/dist-packages (from transformers) (3.15.4)\n",
            "Requirement already satisfied: huggingface-hub<1.0,>=0.23.2 in /usr/local/lib/python3.10/dist-packages (from transformers) (0.23.4)\n",
            "Requirement already satisfied: numpy<2.0,>=1.17 in /usr/local/lib/python3.10/dist-packages (from transformers) (1.25.2)\n",
            "Requirement already satisfied: packaging>=20.0 in /usr/local/lib/python3.10/dist-packages (from transformers) (24.1)\n",
            "Requirement already satisfied: pyyaml>=5.1 in /usr/local/lib/python3.10/dist-packages (from transformers) (6.0.1)\n",
            "Requirement already satisfied: regex!=2019.12.17 in /usr/local/lib/python3.10/dist-packages (from transformers) (2024.5.15)\n",
            "Requirement already satisfied: requests in /usr/local/lib/python3.10/dist-packages (from transformers) (2.31.0)\n",
            "Requirement already satisfied: safetensors>=0.4.1 in /usr/local/lib/python3.10/dist-packages (from transformers) (0.4.3)\n",
            "Requirement already satisfied: tokenizers<0.20,>=0.19 in /usr/local/lib/python3.10/dist-packages (from transformers) (0.19.1)\n",
            "Requirement already satisfied: tqdm>=4.27 in /usr/local/lib/python3.10/dist-packages (from transformers) (4.66.4)\n",
            "Requirement already satisfied: fsspec>=2023.5.0 in /usr/local/lib/python3.10/dist-packages (from huggingface-hub<1.0,>=0.23.2->transformers) (2023.6.0)\n",
            "Requirement already satisfied: typing-extensions>=3.7.4.3 in /usr/local/lib/python3.10/dist-packages (from huggingface-hub<1.0,>=0.23.2->transformers) (4.12.2)\n",
            "Requirement already satisfied: charset-normalizer<4,>=2 in /usr/local/lib/python3.10/dist-packages (from requests->transformers) (3.3.2)\n",
            "Requirement already satisfied: idna<4,>=2.5 in /usr/local/lib/python3.10/dist-packages (from requests->transformers) (3.7)\n",
            "Requirement already satisfied: urllib3<3,>=1.21.1 in /usr/local/lib/python3.10/dist-packages (from requests->transformers) (2.0.7)\n",
            "Requirement already satisfied: certifi>=2017.4.17 in /usr/local/lib/python3.10/dist-packages (from requests->transformers) (2024.7.4)\n"
          ]
        },
        {
          "output_type": "stream",
          "name": "stderr",
          "text": [
            "/usr/local/lib/python3.10/dist-packages/sentence_transformers/cross_encoder/CrossEncoder.py:11: TqdmExperimentalWarning: Using `tqdm.autonotebook.tqdm` in notebook mode. Use `tqdm.tqdm` instead to force console mode (e.g. in jupyter console)\n",
            "  from tqdm.autonotebook import tqdm, trange\n"
          ]
        }
      ]
    },
    {
      "cell_type": "code",
      "source": [
        "# Upload file\n",
        "uploaded = files.upload()\n",
        "pdf_path = 'Assignment Support Document.pdf'"
      ],
      "metadata": {
        "colab": {
          "base_uri": "https://localhost:8080/",
          "height": 73
        },
        "id": "VJGxHua3zpb9",
        "outputId": "1f02dc06-85ee-4a0b-d291-9d86a2455d19"
      },
      "execution_count": 2,
      "outputs": [
        {
          "output_type": "display_data",
          "data": {
            "text/plain": [
              "<IPython.core.display.HTML object>"
            ],
            "text/html": [
              "\n",
              "     <input type=\"file\" id=\"files-8a80dcb9-a4b2-4bae-90ee-2f551269d7d0\" name=\"files[]\" multiple disabled\n",
              "        style=\"border:none\" />\n",
              "     <output id=\"result-8a80dcb9-a4b2-4bae-90ee-2f551269d7d0\">\n",
              "      Upload widget is only available when the cell has been executed in the\n",
              "      current browser session. Please rerun this cell to enable.\n",
              "      </output>\n",
              "      <script>// Copyright 2017 Google LLC\n",
              "//\n",
              "// Licensed under the Apache License, Version 2.0 (the \"License\");\n",
              "// you may not use this file except in compliance with the License.\n",
              "// You may obtain a copy of the License at\n",
              "//\n",
              "//      http://www.apache.org/licenses/LICENSE-2.0\n",
              "//\n",
              "// Unless required by applicable law or agreed to in writing, software\n",
              "// distributed under the License is distributed on an \"AS IS\" BASIS,\n",
              "// WITHOUT WARRANTIES OR CONDITIONS OF ANY KIND, either express or implied.\n",
              "// See the License for the specific language governing permissions and\n",
              "// limitations under the License.\n",
              "\n",
              "/**\n",
              " * @fileoverview Helpers for google.colab Python module.\n",
              " */\n",
              "(function(scope) {\n",
              "function span(text, styleAttributes = {}) {\n",
              "  const element = document.createElement('span');\n",
              "  element.textContent = text;\n",
              "  for (const key of Object.keys(styleAttributes)) {\n",
              "    element.style[key] = styleAttributes[key];\n",
              "  }\n",
              "  return element;\n",
              "}\n",
              "\n",
              "// Max number of bytes which will be uploaded at a time.\n",
              "const MAX_PAYLOAD_SIZE = 100 * 1024;\n",
              "\n",
              "function _uploadFiles(inputId, outputId) {\n",
              "  const steps = uploadFilesStep(inputId, outputId);\n",
              "  const outputElement = document.getElementById(outputId);\n",
              "  // Cache steps on the outputElement to make it available for the next call\n",
              "  // to uploadFilesContinue from Python.\n",
              "  outputElement.steps = steps;\n",
              "\n",
              "  return _uploadFilesContinue(outputId);\n",
              "}\n",
              "\n",
              "// This is roughly an async generator (not supported in the browser yet),\n",
              "// where there are multiple asynchronous steps and the Python side is going\n",
              "// to poll for completion of each step.\n",
              "// This uses a Promise to block the python side on completion of each step,\n",
              "// then passes the result of the previous step as the input to the next step.\n",
              "function _uploadFilesContinue(outputId) {\n",
              "  const outputElement = document.getElementById(outputId);\n",
              "  const steps = outputElement.steps;\n",
              "\n",
              "  const next = steps.next(outputElement.lastPromiseValue);\n",
              "  return Promise.resolve(next.value.promise).then((value) => {\n",
              "    // Cache the last promise value to make it available to the next\n",
              "    // step of the generator.\n",
              "    outputElement.lastPromiseValue = value;\n",
              "    return next.value.response;\n",
              "  });\n",
              "}\n",
              "\n",
              "/**\n",
              " * Generator function which is called between each async step of the upload\n",
              " * process.\n",
              " * @param {string} inputId Element ID of the input file picker element.\n",
              " * @param {string} outputId Element ID of the output display.\n",
              " * @return {!Iterable<!Object>} Iterable of next steps.\n",
              " */\n",
              "function* uploadFilesStep(inputId, outputId) {\n",
              "  const inputElement = document.getElementById(inputId);\n",
              "  inputElement.disabled = false;\n",
              "\n",
              "  const outputElement = document.getElementById(outputId);\n",
              "  outputElement.innerHTML = '';\n",
              "\n",
              "  const pickedPromise = new Promise((resolve) => {\n",
              "    inputElement.addEventListener('change', (e) => {\n",
              "      resolve(e.target.files);\n",
              "    });\n",
              "  });\n",
              "\n",
              "  const cancel = document.createElement('button');\n",
              "  inputElement.parentElement.appendChild(cancel);\n",
              "  cancel.textContent = 'Cancel upload';\n",
              "  const cancelPromise = new Promise((resolve) => {\n",
              "    cancel.onclick = () => {\n",
              "      resolve(null);\n",
              "    };\n",
              "  });\n",
              "\n",
              "  // Wait for the user to pick the files.\n",
              "  const files = yield {\n",
              "    promise: Promise.race([pickedPromise, cancelPromise]),\n",
              "    response: {\n",
              "      action: 'starting',\n",
              "    }\n",
              "  };\n",
              "\n",
              "  cancel.remove();\n",
              "\n",
              "  // Disable the input element since further picks are not allowed.\n",
              "  inputElement.disabled = true;\n",
              "\n",
              "  if (!files) {\n",
              "    return {\n",
              "      response: {\n",
              "        action: 'complete',\n",
              "      }\n",
              "    };\n",
              "  }\n",
              "\n",
              "  for (const file of files) {\n",
              "    const li = document.createElement('li');\n",
              "    li.append(span(file.name, {fontWeight: 'bold'}));\n",
              "    li.append(span(\n",
              "        `(${file.type || 'n/a'}) - ${file.size} bytes, ` +\n",
              "        `last modified: ${\n",
              "            file.lastModifiedDate ? file.lastModifiedDate.toLocaleDateString() :\n",
              "                                    'n/a'} - `));\n",
              "    const percent = span('0% done');\n",
              "    li.appendChild(percent);\n",
              "\n",
              "    outputElement.appendChild(li);\n",
              "\n",
              "    const fileDataPromise = new Promise((resolve) => {\n",
              "      const reader = new FileReader();\n",
              "      reader.onload = (e) => {\n",
              "        resolve(e.target.result);\n",
              "      };\n",
              "      reader.readAsArrayBuffer(file);\n",
              "    });\n",
              "    // Wait for the data to be ready.\n",
              "    let fileData = yield {\n",
              "      promise: fileDataPromise,\n",
              "      response: {\n",
              "        action: 'continue',\n",
              "      }\n",
              "    };\n",
              "\n",
              "    // Use a chunked sending to avoid message size limits. See b/62115660.\n",
              "    let position = 0;\n",
              "    do {\n",
              "      const length = Math.min(fileData.byteLength - position, MAX_PAYLOAD_SIZE);\n",
              "      const chunk = new Uint8Array(fileData, position, length);\n",
              "      position += length;\n",
              "\n",
              "      const base64 = btoa(String.fromCharCode.apply(null, chunk));\n",
              "      yield {\n",
              "        response: {\n",
              "          action: 'append',\n",
              "          file: file.name,\n",
              "          data: base64,\n",
              "        },\n",
              "      };\n",
              "\n",
              "      let percentDone = fileData.byteLength === 0 ?\n",
              "          100 :\n",
              "          Math.round((position / fileData.byteLength) * 100);\n",
              "      percent.textContent = `${percentDone}% done`;\n",
              "\n",
              "    } while (position < fileData.byteLength);\n",
              "  }\n",
              "\n",
              "  // All done.\n",
              "  yield {\n",
              "    response: {\n",
              "      action: 'complete',\n",
              "    }\n",
              "  };\n",
              "}\n",
              "\n",
              "scope.google = scope.google || {};\n",
              "scope.google.colab = scope.google.colab || {};\n",
              "scope.google.colab._files = {\n",
              "  _uploadFiles,\n",
              "  _uploadFilesContinue,\n",
              "};\n",
              "})(self);\n",
              "</script> "
            ]
          },
          "metadata": {}
        },
        {
          "output_type": "stream",
          "name": "stdout",
          "text": [
            "Saving Assignment Support Document.pdf to Assignment Support Document.pdf\n"
          ]
        }
      ]
    },
    {
      "cell_type": "markdown",
      "source": [
        "# Extract Text from PDFs"
      ],
      "metadata": {
        "id": "cyttZn1Kh2yb"
      }
    },
    {
      "cell_type": "code",
      "source": [
        "# Extract text from PDF\n",
        "def extract_text_from_pdf(pdf_path):\n",
        "    text = \"\"\n",
        "    try:\n",
        "        with pdfplumber.open(pdf_path) as pdf:\n",
        "            for page in pdf.pages:\n",
        "                text += page.extract_text() + \"\\n\"\n",
        "    except Exception as e:\n",
        "        print(f\"Error extracting text from PDF: {e}\")\n",
        "    return text"
      ],
      "metadata": {
        "collapsed": true,
        "id": "Tejk38s6iGvN"
      },
      "execution_count": 30,
      "outputs": []
    },
    {
      "cell_type": "code",
      "source": [
        "# Testing PDF text extaction\n",
        "def test_pdf_extraction():\n",
        "  pdf_text = extract_text_from_pdf(pdf_path)\n",
        "  assert isinstance(pdf_text, str), \"Extracted text should be a string\"\n",
        "  assert len(pdf_text) > 0, \"Extracted text should not be empty\"\n",
        "  print(\"PDF extraction test passed.\\n\")\n",
        "  display(pdf_text)\n"
      ],
      "metadata": {
        "collapsed": true,
        "id": "DsETpWwcmOb7"
      },
      "execution_count": 31,
      "outputs": []
    },
    {
      "cell_type": "code",
      "source": [
        "test_pdf_extraction();"
      ],
      "metadata": {
        "colab": {
          "base_uri": "https://localhost:8080/",
          "height": 140
        },
        "id": "GUrRu-thmo4Y",
        "outputId": "248d24e4-8c55-4d6e-f2e9-a189314ea9ac"
      },
      "execution_count": 32,
      "outputs": [
        {
          "output_type": "stream",
          "name": "stdout",
          "text": [
            "PDF extraction test passed.\n",
            "\n"
          ]
        },
        {
          "output_type": "display_data",
          "data": {
            "text/plain": [
              "\"GOVERNMENT OF INDIA\\nINTERIM BUDGET 2024-2025\\nSPEECH\\nOF\\nNIRMALA SITHARAMAN\\nMINISTER OF FINANCE\\nFebruary 1, 2024\\n\\nCONTENTS\\nPART – A\\nPage No.\\nIntroduction 1\\nInclusive Development and Growth 2\\nSocial Justice 3\\nExemplary Track Record of Governance,\\nDevelopment and Performance (GDP) 7\\nEconomic Management 8\\nGlobal Context 9\\nVision for ‘Viksit Bharat’ 10\\nStrategy for ‘Amrit Kaal’ 11\\nInfrastructure Development 17\\nAmrit Kaal as Kartavya Kaal 22\\nRevised Estimates 2023-24 23\\nBudget Estimates 2024-25 23\\nPART – B\\nDirect taxes 25\\nIndirect Taxes 26\\nEconomy – Then and Now 28\\n\\nInterim Budget 2024-2025\\nSpeech of\\nNirmala Sitharaman\\nMinister of Finance\\nFebruary 1, 2024\\nHon’ble Speaker,\\nI present the Interim Budget for 2024-25.\\nIntroduction\\n1. The Indian economy has witnessed profound positive\\ntransformation in the last ten years. The people of India are\\nlooking ahead to the future with hope and optimism.\\n2. With the blessings of the people, when our Government\\nunder the visionary and dynamic leadership of Hon’ble Prime\\nMinister Shri Narendra Modi assumed office in 2014, the country\\nwas facing enormous challenges. With ‘Sabka Saath, Sabka\\nVikas’ as its ‘mantra’, the Government overcame those\\nchallenges in right earnest. Structural reforms were undertaken.\\nPro-people programmes were formulated and implemented\\npromptly. Conditions were created for more opportunities for\\nemployment and entrepreneurship. The economy got a new\\nvigour. The fruits of development started reaching the people at\\nscale. The country got a new sense of purpose and hope.\\nNaturally, the people blessed the Government with a bigger\\nmandate.\\n1\\n3. In the second term, our Government under the leadership\\nof Hon’ble Prime Minister doubled down on its responsibilities to\\nbuild a prosperous country with comprehensive development of\\nall people and all regions. Our Government strengthened its\\n‘mantra’ to ‘Sabka Saath, Sabka Vikas, and Sabka Vishwas’. Our\\ndevelopment philosophy covered all elements of inclusivity,\\nnamely,\\n\\uf0b7 social inclusivity through coverage of all strata of the\\nsociety, and\\n\\uf0b7 geographical inclusivity through development of all\\nregions of the country.\\n4. With the ‘whole of nation’ approach of ‘Sabka Prayas’, the\\ncountry overcame the challenge of a once-in-a-century\\npandemic, took long strides towards ‘Atmanirbhar Bharat’,\\ncommitted to ‘Panch Pran’, and laid solid foundations for the\\n‘Amrit Kaal’. As a result, our young country has high aspirations,\\npride in its present, and hope and confidence for a bright future.\\nWe expect that our Government, based on its stupendous work,\\nwill be blessed again by the people with a resounding mandate.\\nInclusive Development and Growth\\n5. Our humane and inclusive approach to development is a\\nmarked and deliberate departure from the earlier approach of\\n‘provisioning up-to-village level’. Development programmes, in\\nthe last ten years, have targeted each and every household and\\nindividual, through ‘housing for all’, ‘har ghar jal’, electricity for\\n2\\nall, cooking gas for all, bank accounts and financial services for\\nall, in record time.\\n6. The worries about food have been eliminated through free\\nration for 80 crore people. Minimum support prices for the\\nproduce of ‘Annadata’ are periodically increased appropriately.\\nThese and the provision of basic necessities have enhanced real\\nincome in the rural areas. Their economic needs could be\\naddressed, thus spurring growth and generating jobs.\\nSocial Justice\\n7. Our Government is working with an approach to\\ndevelopment that is all-round, all-pervasive and all-inclusive\\n(सर्वांगीण, सर्वस्पर्शी और सर्वसमवर्ेर्शी). It covers all castes and\\npeople at all levels. We are working to make India a ‘Viksit\\nBharat’ by 2047. For achieving that goal, we need to improve\\npeople’s capability and empower them.\\n8. Previously, social justice was mostly a political slogan. For\\nour Government, social justice is an effective and necessary\\ngovernance model. The saturation approach of covering all\\neligible people is the true and comprehensive achievement of\\nsocial justice. This is secularism in action, reduces corruption,\\nand prevents nepotism (भवई-भतीजवर्वद). There is transparency\\nand assurance that benefits are delivered to all eligible people.\\nThe resources are distributed fairly. All, regardless of their social\\nstanding, get access to opportunities. We are addressing\\nsystemic inequalities that had plagued our society. We focus on\\n3\\noutcomes and not on outlays so that the socio-economic\\ntransformation is achieved.\\n9. As our Prime Minister firmly believes, we need to focus on\\nfour major castes. They are, ‘Garib’ (Poor), ‘Mahilayen’\\n(Women), ‘Yuva’ (Youth) and ‘Annadata’ (Farmer). Their needs,\\ntheir aspirations, and their welfare are our highest priority. The\\ncountry progresses, when they progress. All four require and\\nreceive government support in their quest to better their lives.\\nTheir empowerment and well-being will drive the country\\nforward.\\nGarib Kalyan, Desh ka Kalyan\\n10. We believe in empowering the poor. The earlier approach\\nof tackling poverty through entitlements had resulted in very\\nmodest outcomes. When the poor become empowered partners\\nin the development process, government’s power to assist them\\nalso increases manifold. With the pursuit of ‘Sabka ka Saath’ in\\nthese 10 years, the Government has assisted 25 crore people to\\nget freedom from multi-dimensional poverty. Our Government’s\\nefforts are now getting synergized with energy and passion of\\nsuch empowered people. This is truly elevating them from\\npoverty.\\n11. ‘Direct Benefit Transfer’ of ` 34 lakh crore from the\\nGovernment using PM-Jan Dhan accounts has led to savings of\\n` 2.7 lakh crore for the Government. This has been realized\\n4\\nthrough avoidance of leakages prevalent earlier. The savings\\nhave helped in providing more funds for ‘Garib Kalyan’.\\n12. PM-SVANidhi has provided credit assistance to 78 lakh\\nstreet vendors. From that total, 2.3 lakh have received credit for\\nthe third time.\\n13. PM-JANMAN Yojana reaches out to the particularly\\nvulnerable tribal groups, who have remained outside the realm\\nof development so far. PM-Vishwakarma Yojana provides end-to-\\nend support to artisans and craftspeople engaged in 18 trades.\\nThe schemes for empowerment of Divyangs and Transgender\\npersons reflect firm resolve of our Government to leave no one\\nbehind.\\nWelfare of Annadata\\n14. Farmers are our ‘Annadata’. Every year, under PM-KISAN\\nSAMMAN Yojana, direct financial assistance is provided to\\n11.8 crore farmers, including marginal and small farmers. Crop\\ninsurance is given to 4 crore farmers under PM Fasal Bima\\nYojana. These, besides several other programmes, are assisting\\n‘Annadata’ in producing food for the country and the world.\\n15. Electronic National Agriculture Market has integrated\\n1361 mandis, and is providing services to 1.8 crore farmers with\\ntrading volume of ` 3 lakh crore.\\n16. The sector is poised for inclusive, balanced, higher growth\\nand productivity. These are facilitated from farmer-centric\\npolicies, income support, coverage of risks through price and\\n5\\ninsurance support, promotion of technologies and innovations\\nthrough start-ups.\\nEmpowering Amrit Peedhi, the Yuva\\n17. Our prosperity depends on adequately equipping and\\nempowering the youth. The National Education Policy 2020 is\\nushering in transformational reforms. PM ScHools for Rising India\\n(PM SHRI) are delivering quality teaching, and nurturing holistic\\nand well-rounded individuals.\\n18. The Skill India Mission has trained 1.4 crore youth,\\nupskilled and reskilled 54 lakh youth, and established 3000 new\\nITIs. A large number of new institutions of higher learning,\\nnamely 7 IITs, 16 IIITs, 7 IIMs, 15 AIIMS and 390 universities have\\nbeen set up.\\n19. PM Mudra Yojana has sanctioned 43 crore loans\\naggregating to ` 22.5 lakh crore for entrepreneurial aspirations\\nof our youth. Besides that, Fund of Funds, Start Up India, and\\nStart Up Credit Guarantee schemes are assisting our youth. They\\nare also becoming ‘rozgardata’.\\n20. The country is proud of our youth scaling new heights in\\nsports. The highest ever medal tally in Asian Games and Asian\\nPara Games in 2023 reflects a high confidence level. Chess\\nprodigy and our Number-One ranked player Praggnanandhaa put\\nup a stiff fight against the reigning World Champion Magnus\\nCarlsson in 2023. Today, India has over 80 chess grandmasters\\ncompared to little over 20 in 2010.\\n6\\nMomentum for Nari Shakti\\n21. The empowerment of women through entrepreneurship,\\nease of living, and dignity for them has gained momentum in\\nthese ten years.\\n22. Thirty crore Mudra Yojana loans have been given to\\nwomen entrepreneurs. Female enrolment in higher education\\nhas gone up by twenty-eight per cent in ten years. In STEM\\ncourses, girls and women constitute forty-three per cent of\\nenrolment - one of the highest in the world. All these measures\\nare getting reflected in the increasing participation of women in\\nworkforce.\\n23. Making ‘Triple Talaq’ illegal, reservation of one-third seats\\nfor women in the Lok Sabha and State legislative assemblies, and\\ngiving over seventy per cent houses under PM Awas Yojana in\\nrural areas to women as sole or joint owners have enhanced\\ntheir dignity.\\nExemplary Track Record of Governance, Development and\\nPerformance (GDP)\\n24. Besides delivering on high growth in terms of Gross\\nDomestic Product, the Government is equally focused on a more\\ncomprehensive ‘GDP’, i.e., ’Governance, Development and\\nPerformance’.\\n25. Our Government has provided transparent, accountable,\\npeople-centric and prompt trust-based administration with\\n7\\n‘citizen-first’ and ‘minimum government, maximum governance’\\napproach.\\n26. The impact of all-round development is discernible in all\\nsectors. There is macro-economic stability, including in the\\nexternal sector. Investments are robust. The economy is doing\\nwell.\\n27. People are living better and earning better, with even\\ngreater aspirations for the future. Average real income of the\\npeople has increased by fifty per cent. Inflation is moderate.\\nPeople are getting empowered, equipped and enabled to pursue\\ntheir aspirations. There is effective and timely delivery of\\nprogrammes and of large projects.\\nEconomic Management\\n28. The multipronged economic management over the past\\nten years has complemented people-centric inclusive\\ndevelopment. Following are some of the major elements.\\n(1) All forms of infrastructure, physical, digital or social,\\nare being built in record time.\\n(2) All parts of the country are becoming active\\nparticipants in economic growth.\\n(3) Digital Public Infrastructure, a new ‘factor of\\nproduction’ in the 21st century, is instrumental in\\nformalization of the economy.\\n8\\n(4) Goods and Services Tax has enabled ‘One Nation,\\nOne Market, One Tax’. Tax reforms have led to\\ndeepening and widening of tax base.\\n(5) Strengthening of the financial sector has helped in\\nmaking savings, credit and investments more\\nefficient.\\n(6) GIFT IFSC and the unified regulatory authority, IFSCA\\nare creating a robust gateway for global capital and\\nfinancial services for the economy.\\n(7) Proactive inflation management has helped keep\\ninflation within the policy band.\\nGlobal Context\\n29. Geopolitically, global affairs are becoming more complex\\nand challenging with wars and conflicts. Globalization is being\\nredefined with reshoring and friend-shoring, disruption and\\nfragmentation of supply chains, and competition for critical\\nminerals and technologies. A new world order is emerging after\\nthe Covid pandemic.\\n30. India assumed G20 Presidency during very difficult times\\nfor the world. The global economy was going through high\\ninflation, high interest rates, low growth, very high public debt,\\nlow trade growth, and climate challenges. The pandemic had led\\nto a crisis of food, fertilizer, fuel and finances for the world, while\\nIndia successfully navigated its way. The country showed the way\\n9\\nforward and built consensus on solutions for those global\\nproblems.\\n31. The recently announced India-Middle East-Europe\\nEconomic Corridor is a strategic and economic game changer for\\nIndia and others. In the words of Hon’ble Prime Minister, the\\ncorridor “will become the basis of world trade for hundreds of\\nyears to come, and history will remember that this corridor was\\ninitiated on Indian soil”.\\nVision for ‘Viksit Bharat’\\n32. Our vision for ‘Viksit Bharat’ is that of “Prosperous Bharat\\nin harmony with nature, with modern infrastructure, and\\nproviding opportunities for all citizens and all regions to reach\\ntheir potential”.\\n33. With confidence arising from strong and exemplary track-\\nrecord of performance and progress earning ‘Sabka Vishwas’, the\\nnext five years will be years of unprecedented development, and\\ngolden moments to realize the dream of developed India @\\n2047. The trinity of demography, democracy and diversity\\nbacked by ‘Sabka Prayas’ has the potential to fulfill aspirations of\\nevery Indian.\\n34. As Hon’ble Prime Minister in his Independence Day\\naddress to the nation mentioned, “There is no dearth of\\nopportunities; as many opportunities as we want. The country is\\ncapable of creating more opportunities. Sky's the limit”.\\n10\\nStrategy for ‘Amrit Kaal’\\n35. Our Government will adopt economic policies that foster\\nand sustain growth, facilitate inclusive and sustainable\\ndevelopment, improve productivity, create opportunities for all,\\nhelp them enhance their capabilities, and contribute to\\ngeneration of resources to power investments and fulfil\\naspirations.\\n36. Guided by the principle ‘Reform, Perform, and Transform’,\\nthe Government will take up next generation reforms, and build\\nconsensus with the states and stakeholders for effective\\nimplementation.\\n37. It is an important policy priority for our Government to\\nensure timely and adequate finances, relevant technologies and\\nappropriate training for the Micro, Small and Medium\\nEnterprises (MSME) to grow and also compete globally. Orienting\\nthe regulatory environment to facilitate their growth will be an\\nimportant element of this policy mix.\\n38. Aligning with the ‘Panchamrit’ goals, our Government will\\nfacilitate sustaining high and more resource-efficient economic\\ngrowth. This will work towards energy security in terms of\\navailability, accessibility and affordability.\\n39. For meeting the investment needs our Government will\\nprepare the financial sector in terms of size, capacity, skills and\\nregulatory framework.\\n11\\nAspirational Districts Programme\\n40. Our Government stands ready to assist the states in faster\\ndevelopment of aspirational districts and blocks, including\\ngeneration of ample economic opportunities.\\nDevelopment of the East\\n41. Our Government will pay utmost attention to make the\\neastern region and its people a powerful driver of India’s growth.\\nPM Awas Yojana (Grameen)\\n42. Despite the challenges due to COVID, implementation of\\nPM Awas Yojana (Grameen) continued and we are close to\\nachieving the target of three crore houses. Two crore more\\nhouses will be taken up in the next five years to meet the\\nrequirement arising from increase in the number of families.\\nRooftop solarization and muft bijli\\n43. Through rooftop solarization, one crore households will\\nbe enabled to obtain up to 300 units free electricity every month.\\nThis scheme follows the resolve of Hon’ble Prime Minister on the\\nhistoric day of consecration of Ram Mandir in Ayodhya.\\nFollowing benefits are expected.\\na. Savings up to fifteen to eighteen thousand rupees\\nannually for households from free solar electricity and\\nselling the surplus to the distribution companies;\\nb. Charging of electric vehicles;\\n12\\nc. Entrepreneurship opportunities for a large number of\\nvendors for supply and installation;\\nd. Employment opportunities for the youth with technical\\nskills in manufacturing, installation and maintenance;\\nHousing for middle class\\n44. Our Government will launch a scheme to help deserving\\nsections of the middle class “living in rented houses, or slums, or\\nchawls and unauthorized colonies” to buy or build their own\\nhouses.\\nMedical Colleges\\n45. Several youth are ambitious to get qualified as doctors.\\nThey aim to serve our people through improved healthcare\\nservices. Our Government plans to set up more medical colleges\\nby utilizing the existing hospital infrastructure under various\\ndepartments. A committee for this purpose will be set-up to\\nexamine the issues and make relevant recommendations.\\nCervical Cancer Vaccination\\n46. Our Government will encourage vaccination for girls in age\\ngroup of 9 to 14 years for prevention of cervical cancer.\\nMaternal and child health care\\n47. Various schemes for maternal and child care will be\\nbrought under one comprehensive programme for synergy in\\nimplementation. Upgradation of anganwadi centres under\\n“Saksham Anganwadi and Poshan 2.0” will be expedited for\\n13\\nimproved nutrition delivery, early childhood care and\\ndevelopment.\\n48. The newly designed U-WIN platform for managing\\nimmunization and intensified efforts of Mission Indradhanush\\nwill be rolled out expeditiously throughout the country.\\nAyushman Bharat\\n49. Healthcare cover under Ayushman Bharat scheme will be\\nextended to all ASHA workers, Anganwadi Workers and Helpers.\\nAgriculture and food processing\\n50. The efforts for value addition in agricultural sector and\\nboosting farmers’ income will be stepped up. Pradhan Mantri\\nKisan Sampada Yojana has benefitted 38 lakh farmers and\\ngenerated 10 lakh employment. Pradhan Mantri Formalisation of\\nMicro Food Processing Enterprises Yojana has assisted 2.4 lakh\\nSHGs and sixty thousand individuals with credit linkages. Other\\nschemes are complementing the efforts for reducing post-\\nharvest losses, and improving productivity and incomes.\\n51. For ensuring faster growth of the sector, our Government\\nwill further promote private and public investment in\\npost-harvest activities including aggregation, modern storage,\\nefficient supply chains, primary and secondary processing and\\nmarketing and branding.\\n14\\nNano DAP\\n52. After the successful adoption of Nano Urea, application of\\nNano DAP on various crops will be expanded in all agro-climatic\\nzones.\\nAtmanirbhar Oil Seeds Abhiyan\\n53. Building on the initiative announced in 2022, a strategy\\nwill be formulated to achieve ‘atmanirbharta’ for oil seeds such\\nas mustard, groundnut, sesame, soybean, and sunflower. This\\nwill cover research for high-yielding varieties, widespread\\nadoption of modern farming techniques, market linkages,\\nprocurement, value addition, and crop insurance.\\nDairy Development\\n54. A comprehensive programme for supporting dairy farmers\\nwill be formulated. Efforts are already on to control foot and\\nmouth disease. India is the world’s largest milk producer but\\nwith low productivity of milch-animals. The programme will be\\nbuilt on the success of existing schemes such Rashtriya Gokul\\nMission, National Livestock Mission, and Infrastructure\\nDevelopment Funds for dairy processing and animal husbandry.\\nMatsya Sampada\\n55. It was our Government which set up a separate\\nDepartment for Fisheries realizing the importance of assisting\\nfishermen. This has resulted in doubling of both inland and\\naquaculture production. Seafood export since 2013-14 has also\\n15\\ndoubled. Implementation of Pradhan Mantri Matsya Sampada\\nYojana (PMMSY) will be stepped up to:\\n(1) enhance aquaculture productivity from existing 3 to\\n5 tons per hectare,\\n(2) double exports to ` 1 lakh crore and\\n(3) generate 55 lakh employment opportunities in near\\nfuture.\\nFive integrated aquaparks will be setup.\\nLakhpati Didi\\n56. Eighty-three lakh SHGs with nine crore women are\\ntransforming rural socio-economic landscape with\\nempowerment and self-reliance. Their success has assisted\\nnearly one crore women to become Lakhpati Didi already. They\\nare an inspiration to others. Their achievements will be\\nrecognized through honouring them. Buoyed by the success, it\\nhas been decided to enhance the target for Lakhpati Didi from\\n2 crore to 3 crore.\\nTechnological Changes\\n57. New age technologies and data are changing the lives of\\npeople and businesses. They are also enabling new economic\\nopportunities and facilitating provision of high-quality services at\\naffordable prices for all, including those at ‘bottom of the\\npyramid’. Opportunities for India at the global level are\\n16\\nexpanding. India is showing solutions through innovation and\\nentrepreneurship of its people.\\nResearch and Innovation for catalyzing growth, employment\\nand development\\n58. Prime Minister Shastri gave the slogan of “Jai Jawan Jai\\nKisan”. Prime Minister Vajpayee made that “Jai Jawan Jai Kisan\\nJai Vigyan”. Prime Minister Modi has furthered that to “Jai\\nJawan Jai Kisan Jai Vigyan and Jai Anusandhan”, as innovation is\\nthe foundation of development.\\n59. For our tech savvy youth, this will be a golden era.\\nA corpus of rupees one lakh crore will be established with\\nfifty-year interest free loan. The corpus will provide long-term\\nfinancing or refinancing with long tenors and low or nil interest\\nrates. This will encourage the private sector to scale up research\\nand innovation significantly in sunrise domains. We need to have\\nprogrammes that combine the powers of our youth and\\ntechnology.\\n60. A new scheme will be launched for strengthening\\ndeep-tech technologies for defence purposes and expediting\\n‘atmanirbharta’.\\nInfrastructure Development\\n61. Building on the massive tripling of the capital expenditure\\noutlay in the past 4 years resulting in huge multiplier impact on\\neconomic growth and employment creation, the outlay for the\\nnext year is being increased by 11.1 per cent to eleven lakh,\\n17\\neleven thousand, one hundred and eleven crore rupees\\n(` 11,11,111 crore). This would be 3.4 per cent of the GDP.\\nRailways\\n62. Three major economic railway corridor programmes will\\nbe implemented. These are:\\n(1) energy, mineral and cement corridors,\\n(2) port connectivity corridors, and\\n(3) high traffic density corridors.\\nThe projects have been identified under the PM Gati Shakti for\\nenabling multi-modal connectivity. They will improve logistics\\nefficiency and reduce cost.\\n63. The resultant decongestion of the high-traffic corridors\\nwill also help in improving operations of passenger trains,\\nresulting in safety and higher travel speed for passengers.\\nTogether with dedicated freight corridors, these three economic\\ncorridor programmes will accelerate our GDP growth and reduce\\nlogistic costs.\\n64. Forty thousand normal rail bogies will be converted to the\\nVande Bharat standards to enhance safety, convenience and\\ncomfort of passengers.\\nAviation Sector\\n65. The aviation sector has been galvanized in the past\\nten years. Number of airports have doubled to 149. Roll out of\\nair connectivity to tier-two and tier-three cities under UDAN\\n18\\nscheme has been widespread. Five hundred and seventeen new\\nroutes are carrying 1.3 crore passengers. Indian carriers have\\npro-actively placed orders for over 1000 new aircrafts. Expansion\\nof existing airports and development of new airports will\\ncontinue expeditiously.\\nMetro and NaMo Bharat\\n66. We have a fast-expanding middle class and rapid\\nurbanization is taking place. Metro Rail and NaMo Bharat can be\\nthe catalyst for the required urban transformation. Expansion of\\nthese systems will be supported in large cities focusing on\\ntransit-oriented development.\\nGreen Energy\\n67. Towards meeting our commitment for ‘net-zero’ by 2070,\\nthe following measures will be taken.\\na. Viability gap funding will be provided for harnessing\\noffshore wind energy potential for initial capacity of\\none giga-watt.\\nb. Coal gasification and liquefaction capacity of 100 MT\\nwill be set up by 2030. This will also help in reducing\\nimports of natural gas, methanol, and ammonia.\\nc. Phased mandatory blending of compressed biogas\\n(CBG) in compressed natural gas (CNG) for transport\\nand piped natural gas (PNG) for domestic purposes will\\nbe mandated.\\n19\\nd. Financial assistance will be provided for procurement\\nof biomass aggregation machinery to support\\ncollection.\\nElectric Vehicle Ecosystem\\n68. Our Government will expand and strengthen the e-vehicle\\necosystem by supporting manufacturing and charging\\ninfrastructure. Greater adoption of e-buses for public transport\\nnetworks will be encouraged through payment security\\nmechanism.\\nBio-manufacturing and Bio-foundry\\n69. For promoting green growth, a new scheme of\\nbio-manufacturing and bio-foundry will be launched. This will\\nprovide environment friendly alternatives such as biodegradable\\npolymers, bio-plastics, bio-pharmaceuticals and bio-agri-inputs.\\nThis scheme will also help in transforming today’s consumptive\\nmanufacturing paradigm to the one based on regenerative\\nprinciples.\\nBlue Economy 2.0\\n70. For promoting climate resilient activities for blue economy\\n2.0, a scheme for restoration and adaptation measures, and\\ncoastal aquaculture and mariculture with integrated and\\nmulti-sectoral approach will be launched.\\n20\\nComprehensive development of tourist centres\\n71. The success of organizing G20 meetings in sixty places\\npresented diversity of India to global audience. Our economic\\nstrength has made the country an attractive destination for\\nbusiness and conference tourism. Our middle class also now\\naspires to travel and explore. Tourism, including spiritual\\ntourism, has tremendous opportunities for local\\nentrepreneurship.\\n72. States will be encouraged to take up comprehensive\\ndevelopment of iconic tourist centres, branding and marketing\\nthem at global scale. A framework for rating of the centres based\\non quality of facilities and services will be established. Long-term\\ninterest free loans will be provided to States for financing such\\ndevelopment on matching basis.\\n73. To address the emerging fervour for domestic tourism,\\nprojects for port connectivity, tourism infrastructure, and\\namenities will be taken up on our islands, including\\nLakshadweep. This will help in generating employment also.\\nPromoting Investments\\n74. The FDI inflow during 2014-23 was USD 596 billion marking\\na golden era. That is twice the inflow during 2005-14.\\nFor encouraging sustained foreign investment, we are\\nnegotiating bilateral investment treaties with our foreign\\npartners, in the spirit of ‘first develop India’.\\n21\\nReforms in the States for ‘Viksit Bharat’\\n75. Many growth and development enabling reforms are\\nneeded in the states for realizing the vision of ‘Viksit Bharat’.\\nA provision of seventy-five thousand crore rupees as fifty-year\\ninterest free loan is proposed this year to support those\\nmilestone-linked reforms by the State Governments.\\nSocietal Changes\\n76. The Government will form a high-powered committee for\\nan extensive consideration of the challenges arising from fast\\npopulation growth and demographic changes. The committee\\nwill be mandated to make recommendations for addressing\\nthese challenges comprehensively in relation to the goal of\\n‘Viksit Bharat’.\\nAmrit Kaal as Kartavya Kaal\\n77. Our Government stands committed to strengthening and\\nexpanding the economy with high growth and to create\\nconditions for people to realize their aspirations. Hon’ble Prime\\nMinister in his Independence Day address to the nation, in the\\n75th year of our Republic said; we “commit ourselves to national\\ndevelopment, with new inspirations, new consciousness, new\\nresolutions, as the country opens up immense possibilities and\\nopportunities”. It is our ‘Kartavya Kaal’.\\n78. Every challenge of the pre-2014 era was overcome\\nthrough our economic management and our governance. These\\nhave placed the country on a resolute path of sustained high\\n22\\ngrowth. This has been possible through our right policies, true\\nintentions, and appropriate decisions. In the full budget in July,\\nour Government will present a detailed roadmap for our pursuit\\nof ‘Viksit Bharat’.\\nRevised Estimates 2023-24\\n79. The Revised Estimate of the total receipts other than\\nborrowings is ` 27.56 lakh crore, of which the tax receipts are\\n` 23.24 lakh crore. The Revised Estimate of the total expenditure\\nis ` 44.90 lakh crore.\\n80. The revenue receipts at ` 30.03 lakh crore are expected to\\nbe higher than the Budget Estimate, reflecting strong growth\\nmomentum and formalization in the economy.\\n81. The Revised Estimate of the fiscal deficit is 5.8 per cent of\\nGDP, improving on the Budget Estimate, notwithstanding\\nmoderation in the nominal growth estimates.\\nBudget Estimates 2024-25\\n82. Coming to 2024-25, the total receipts other than\\nborrowings and the total expenditure are estimated at ` 30.80\\nand 47.66 lakh crore respectively. The tax receipts are estimated\\nat ` 26.02 lakh crore.\\n83. The scheme of fifty-year interest free loan for capital\\nexpenditure to states will be continued this year with total outlay\\nof ` 1.3 lakh crore.\\n23\\n84. We continue on the path of fiscal consolidation, as\\nannounced in my Budget Speech for 2021-22, to reduce fiscal\\ndeficit below 4.5 per cent by 2025-26. The fiscal deficit in\\n2024-25 is estimated to be 5.1 per cent of GDP, adhering to that\\npath.\\n85. The gross and net market borrowings through dated\\nsecurities during 2024-25 are estimated at ` 14.13 and\\n11.75 lakh crore respectively. Both will be less than that in\\n2023-24. Now that the private investments are happening at\\nscale, the lower borrowings by the Central Government will\\nfacilitate larger availability of credit for the private sector.\\nVote on Account\\n86. I will be seeking ‘vote on account’ approval of the\\nParliament through the Appropriation Bill for a part of the\\nfinancial year 2024-25.\\nI will, now, move to Part B.\\n24\\nPart B\\nHon’ble Speaker Sir,\\nDirect taxes\\n87. Over the last ten years, the direct tax collections have\\nmore than trebled and the return filers swelled to 2.4 times.\\nI would like to assure the taxpayers that their contributions have\\nbeen used wisely for the development of the country and\\nwelfare of its people. I appreciate the tax payers for their\\nsupport.\\n88. The Government has reduced and rationalized tax rates.\\nUnder the new tax scheme, there is now no tax liability for tax\\npayers with income up to ₹ 7 lakh, up from ₹ 2.2 lakh in the\\nfinancial year 2013-14. The threshold for presumptive taxation\\nfor retail businesses was increased from ₹ 2 crore to ₹ 3 crore.\\nSimilarly, the threshold for professionals eligible for presumptive\\ntaxation was increased from ₹ 50 lakh to ₹ 75 Lakh. Also,\\ncorporate tax rate was decreased from 30 per cent to 22 per cent\\nfor existing domestic companies and to 15 per cent for certain\\nnew manufacturing companies.\\n89. In the last five years, our focus has been to improve\\ntax-payer services. The age-old jurisdiction-based assessment\\nsystem was transformed with the introduction of Faceless\\nAssessment and Appeal, thereby imparting greater efficiency,\\ntransparency and accountability. Introduction of updated income\\ntax returns, a new Form 26AS and prefilling of tax returns have\\n25\\nmade filing of tax returns simpler and easier. Average processing\\ntime of returns has been reduced from 93 days in the year\\n2013-14 to a mere ten days this year, thereby making refunds\\nfaster.\\nIndirect Taxes\\n90. By unifying the highly fragmented indirect tax regime in\\nIndia, GST has reduced the compliance burden on trade and\\nindustry. The industry has acknowledged the benefits of GST.\\nAccording to a recent survey conducted by a leading consulting\\nfirm, 94 per cent of industry leaders view the transition to GST as\\nlargely positive. According to 80 per cent of the respondents, it\\nhas led to supply chain optimisation, as elimination of tax\\narbitrage and octroi has resulted in disbanding of check posts at\\nstate and city boundaries. At the same time, tax base of GST\\nmore than doubled and the average monthly gross GST\\ncollection has almost doubled to ₹ 1.66 lakh crore, this year.\\nStates too have benefited. States’ SGST revenue, including\\ncompensation released to states, in the post-GST period of\\n2017-18 to 2022-23, has achieved a buoyancy of 1.22. In\\ncontrast, the tax buoyancy of State revenues from subsumed\\ntaxes in the pre-GST four-year period of 2012-13 to 2015-16 was\\na mere 0.72. The biggest beneficiaries are the consumers, as\\nreduction in logistics costs and taxes have brought down prices\\nof most goods and services.\\n26\\n91. We have taken a number of steps in Customs to facilitate\\ninternational trade. As a result, the import release time declined\\nby 47 per cent to 71 hours at Inland Container Depots, by 28 per\\ncent to 44 hours at air cargo complexes and by 27 per cent to\\n85 hours at sea ports, over the last four years since 2019, when\\nthe National Time Release Studies were first started.\\nTax proposals\\n92. As for tax proposals, in keeping with the convention, I do\\nnot propose to make any changes relating to taxation and\\npropose to retain the same tax rates for direct taxes and indirect\\ntaxes including import duties. However, certain tax benefits to\\nstart-ups and investments made by sovereign wealth or pension\\nfunds as also tax exemption on certain income of some IFSC units\\nare expiring on 31.03.2024. To provide continuity in taxation,\\nI propose to extend the date to 31.03.2025.\\n93. Moreover, in line with our Government’s vision to improve\\nease of living and ease of doing business, I wish to make an\\nannouncement to improve tax payer services. There are a large\\nnumber of petty, non-verified, non-reconciled or disputed direct\\ntax demands, many of them dating as far back as the year 1962,\\nwhich continue to remain on the books, causing anxiety to\\nhonest tax payers and hindering refunds of subsequent years.\\nI propose to withdraw such outstanding direct tax demands up\\nto twenty-five thousand rupees (₹ 25,000) pertaining to the\\nperiod up to financial year 2009-10 and up to ten-thousand\\n27\\nrupees (₹ 10,000) for financial years 2010-11 to 2014-15. This is\\nexpected to benefit about a crore tax-payers.\\nEconomy – Then and Now\\n94. In 2014 when our Government assumed the reins, the\\nresponsibility to mend the economy step by step and to put the\\ngovernance systems in order was enormous. The need of the\\nhour was to give hope to the people, to attract investments, and\\nto build support for the much-needed reforms. The Government\\ndid that successfully following our strong belief of ‘nation-first’.\\n95. The crisis of those years has been overcome, and the\\neconomy has been put firmly on a high sustainable growth path\\nwith all-round development. It is now appropriate to look at\\nwhere we were then till 2014 and where we are now, only for\\nthe purpose of drawing lessons from the mismanagement of\\nthose years. The Government will lay a White Paper on table of\\nthe House.\\n96. The exemplary track record of governance, development\\nand performance, effective delivery, and ‘Jan Kalyan’ has given\\nthe Government trust, confidence and blessings of the people to\\nrealize, whatever it takes, the goal of ‘Viksit Bharat’ with good\\nintentions, true dedication and hard work in the coming years\\nand decades.\\n97. With this, I commend the interim budget to this august\\nHouse.\\nJai Hind.\\n28\\n\""
            ],
            "application/vnd.google.colaboratory.intrinsic+json": {
              "type": "string"
            }
          },
          "metadata": {}
        }
      ]
    },
    {
      "cell_type": "markdown",
      "source": [
        "# Segment Text and Generate Embeddings"
      ],
      "metadata": {
        "id": "BOC3F4BiiTRf"
      }
    },
    {
      "cell_type": "code",
      "source": [
        "# Segment text into chunks\n",
        "def segment_text(text, chunk_size=512):\n",
        "    words = text.split()\n",
        "    return [' '.join(words[i:i+chunk_size]) for i in range(0, len(words), chunk_size)]\n",
        "\n",
        "# Generate embeddings for text chunks\n",
        "def generate_embeddings(text_chunks):\n",
        "    model = SentenceTransformer('all-MiniLM-L6-v2')\n",
        "    return model.encode(text_chunks, convert_to_tensor=True, normalize_embeddings=True)"
      ],
      "metadata": {
        "id": "CPShVCPviU8X",
        "collapsed": true
      },
      "execution_count": 33,
      "outputs": []
    },
    {
      "cell_type": "code",
      "source": [
        "# Testing embedding generation\n",
        "def test_embedding_generation():\n",
        "  text_chunks = [pdf_path]\n",
        "  embeddings = generate_embeddings(text_chunks)\n",
        "  assert embeddings.shape[0] == 1, \"Should generate one embedding for one sentence\"\n",
        "  assert embeddings.shape[1] > 0, \"Embedding size should be greater than zero\"\n",
        "  print(\"Embedding generation test passed.\\n\")\n",
        "  display(embeddings)\n"
      ],
      "metadata": {
        "collapsed": true,
        "id": "k_U_m8C8mykZ"
      },
      "execution_count": 34,
      "outputs": []
    },
    {
      "cell_type": "code",
      "source": [
        "test_embedding_generation();"
      ],
      "metadata": {
        "colab": {
          "base_uri": "https://localhost:8080/",
          "height": 1000
        },
        "collapsed": true,
        "id": "FAyRrZcfm5eX",
        "outputId": "6c8e1676-e077-4f04-b16a-dbd72ba64e6d"
      },
      "execution_count": 35,
      "outputs": [
        {
          "output_type": "stream",
          "name": "stdout",
          "text": [
            "Embedding generation test passed.\n",
            "\n"
          ]
        },
        {
          "output_type": "display_data",
          "data": {
            "text/plain": [
              "tensor([[-8.3239e-02,  3.2205e-02, -9.3686e-02, -9.3118e-03, -7.7991e-03,\n",
              "          4.5528e-02, -9.2911e-03,  2.4877e-02, -1.0403e-01,  3.3580e-03,\n",
              "         -2.3530e-02,  7.7437e-02,  2.9380e-02,  9.1991e-02, -4.5753e-02,\n",
              "         -7.6813e-03, -5.8144e-02, -2.3628e-02,  2.8001e-02,  5.0193e-02,\n",
              "          2.1056e-02,  2.1335e-02,  9.6805e-02,  1.1619e-02, -1.1593e-02,\n",
              "         -3.9577e-03, -6.3501e-02, -7.1576e-02, -1.2930e-02, -4.4897e-02,\n",
              "          3.6357e-02, -3.9580e-03,  4.8571e-02, -1.5642e-02,  7.9730e-02,\n",
              "          3.6427e-02, -1.2721e-02, -1.2278e-02,  2.6487e-02,  4.5433e-02,\n",
              "         -4.1653e-02, -2.1516e-02, -1.3998e-02,  9.9522e-03,  4.3549e-02,\n",
              "          2.9174e-02, -2.2131e-03, -3.1950e-02,  6.7479e-03,  2.1439e-02,\n",
              "         -1.0614e-02, -7.6207e-03, -3.8617e-02,  3.4686e-02,  2.9628e-02,\n",
              "          3.4625e-02,  9.2031e-02,  6.5416e-03, -5.3048e-02, -7.1754e-02,\n",
              "         -2.9301e-02,  4.4961e-02, -2.5103e-03,  8.3009e-02,  1.1621e-02,\n",
              "          5.3347e-03, -1.9440e-02,  6.3122e-02, -4.0541e-02, -1.0581e-02,\n",
              "         -1.0633e-01,  7.6554e-02,  1.0329e-01,  6.4031e-02,  4.2341e-02,\n",
              "          2.4376e-02,  4.8650e-02,  2.7308e-02,  6.8771e-02, -8.4093e-02,\n",
              "          1.1563e-02, -5.2034e-03,  7.3009e-02,  1.6622e-03,  4.5980e-02,\n",
              "         -2.0207e-02,  2.1064e-02,  2.3903e-02,  8.6528e-02,  2.5933e-02,\n",
              "         -3.8190e-03, -5.2671e-03,  2.2273e-02, -2.1714e-03, -4.8665e-02,\n",
              "         -6.3445e-03,  5.7708e-02, -2.3201e-02, -1.8593e-02,  2.3426e-02,\n",
              "         -2.7085e-02, -6.7833e-02,  5.0133e-02, -9.9884e-03, -3.9296e-02,\n",
              "         -2.4020e-02,  1.0156e-02, -6.1925e-02, -2.0039e-02, -6.6807e-02,\n",
              "          3.3081e-02, -8.7377e-02, -1.3459e-01, -4.5248e-02, -8.9205e-02,\n",
              "         -3.2024e-03,  3.4501e-02, -6.7186e-02, -5.5537e-02, -3.6068e-02,\n",
              "         -6.3632e-02, -3.6500e-03, -1.1959e-02, -1.9291e-02, -1.1493e-02,\n",
              "          1.5821e-02,  1.9342e-02, -3.1694e-33, -3.2677e-02, -8.3116e-02,\n",
              "         -1.0192e-01,  9.6005e-02,  6.8273e-02, -5.6752e-02,  4.7324e-02,\n",
              "          2.6939e-02, -8.6180e-02, -8.2469e-02, -2.8556e-03, -4.5850e-03,\n",
              "          2.7735e-03,  5.7965e-02, -5.7752e-02, -2.3749e-03, -3.6834e-02,\n",
              "          1.6498e-01, -4.1613e-02,  2.2116e-03,  2.3091e-02, -1.2834e-02,\n",
              "         -6.5510e-03, -2.0952e-02,  2.0147e-03,  9.9874e-02, -2.8957e-03,\n",
              "         -1.0279e-01,  2.2263e-02,  1.3792e-02,  4.2091e-02,  5.9978e-03,\n",
              "          5.6940e-03, -7.9573e-02, -1.4730e-02,  9.5688e-03, -5.6815e-02,\n",
              "         -4.6645e-03,  9.7001e-03, -8.1030e-02,  4.2264e-02, -1.1429e-02,\n",
              "          7.8202e-02, -3.4266e-02,  2.1990e-03, -3.5560e-02,  7.3783e-02,\n",
              "          5.9341e-02,  1.0096e-01, -6.7257e-02, -5.6080e-02,  5.2668e-03,\n",
              "         -8.1020e-02, -4.9965e-02,  6.1835e-02,  3.9348e-02, -3.4527e-02,\n",
              "          8.5169e-02, -3.3765e-03, -8.1655e-02,  4.3025e-02,  3.2532e-02,\n",
              "         -6.1924e-02, -2.2666e-03, -4.9725e-03, -8.2254e-02, -7.9444e-03,\n",
              "         -3.0165e-02,  1.0654e-01, -3.3765e-02, -3.4212e-03, -2.7093e-03,\n",
              "         -3.1778e-02, -2.6110e-02,  1.2214e-02,  4.7527e-02,  9.8802e-02,\n",
              "          2.0827e-02, -6.6526e-02, -4.2336e-02, -9.2147e-02, -4.2293e-03,\n",
              "          2.9686e-03, -5.0923e-02,  3.0768e-02,  4.2804e-03,  1.4713e-02,\n",
              "          3.0283e-02,  7.3526e-02, -1.2462e-02,  8.4940e-02, -3.9272e-02,\n",
              "         -1.0694e-01, -1.0046e-02,  9.3919e-02,  1.0684e-33, -1.5191e-02,\n",
              "         -8.1679e-02, -1.8264e-02,  4.0599e-02,  2.7901e-02,  3.1072e-02,\n",
              "         -1.4993e-02, -3.0097e-02,  4.4682e-02,  6.5601e-02, -8.1485e-02,\n",
              "         -2.3982e-02, -1.2596e-01, -2.1965e-02, -6.1039e-02, -7.4666e-02,\n",
              "         -8.8789e-02,  5.3569e-03,  4.3903e-02, -6.1009e-03, -6.9664e-02,\n",
              "          4.3461e-02,  6.3846e-02,  6.9929e-02,  9.5845e-02,  1.7472e-02,\n",
              "          1.5591e-02,  2.8138e-02, -2.7820e-02,  2.8317e-02, -5.3086e-02,\n",
              "         -4.9767e-02, -1.0682e-01,  9.1642e-02,  3.1823e-02, -8.2391e-02,\n",
              "          1.9816e-02,  8.6593e-02, -1.5838e-02,  7.6575e-02,  4.8940e-02,\n",
              "          2.4855e-02, -2.7699e-02, -1.8007e-02,  4.5239e-02,  2.3010e-02,\n",
              "          6.3734e-02, -1.4612e-03,  2.3359e-02,  5.0442e-02, -2.6829e-02,\n",
              "         -1.3869e-03,  2.4584e-02, -3.3051e-02,  9.5060e-03,  5.5446e-02,\n",
              "          1.3508e-02, -5.2089e-02,  2.5429e-02,  5.5137e-02,  1.4844e-03,\n",
              "          3.8599e-02,  5.3038e-02,  4.2396e-02,  2.1189e-02, -4.0862e-02,\n",
              "         -8.7510e-02, -2.0704e-02,  1.9957e-02,  4.3412e-02,  3.8832e-02,\n",
              "         -5.7737e-02,  3.1612e-02, -5.4463e-02,  6.7807e-02,  6.8719e-02,\n",
              "          8.6614e-03,  5.8257e-02, -4.0828e-02, -5.7606e-02,  3.5781e-02,\n",
              "          3.6708e-02, -3.6396e-02,  9.3494e-02,  2.9842e-02,  5.5356e-03,\n",
              "          7.0318e-02,  1.1678e-02, -4.7693e-02, -5.2135e-02, -1.1620e-02,\n",
              "          8.1737e-02,  6.9083e-03, -6.1815e-02, -9.2802e-02, -1.3558e-08,\n",
              "         -4.1762e-02,  8.0812e-02, -1.8928e-03, -7.5074e-02,  6.1734e-02,\n",
              "          2.8051e-02, -1.4238e-02, -3.0769e-03, -4.3074e-02,  6.5729e-02,\n",
              "          4.3810e-02, -9.5914e-02,  7.9568e-02, -3.9131e-02, -1.3465e-02,\n",
              "         -9.3328e-03,  3.1838e-02,  3.2588e-02, -1.1704e-01, -3.2090e-02,\n",
              "          6.1198e-02, -4.1510e-03,  1.0093e-03,  4.6644e-02, -5.1959e-02,\n",
              "         -1.1052e-02, -5.5044e-02,  5.0358e-02, -2.0848e-03, -5.3600e-02,\n",
              "         -1.2615e-02,  5.2926e-02, -1.2556e-02,  4.1477e-02,  1.0024e-01,\n",
              "          3.1958e-02,  7.7763e-02,  6.1449e-03, -4.8142e-02,  7.8535e-02,\n",
              "          3.8897e-02,  7.3499e-02, -1.5010e-02, -1.7204e-02,  1.0066e-01,\n",
              "          4.3255e-02, -8.5954e-02, -9.0761e-02, -4.9007e-02, -3.7402e-02,\n",
              "         -2.6323e-02, -8.8580e-03,  2.8012e-03,  5.2920e-02, -9.0286e-02,\n",
              "          1.4073e-02,  4.5125e-02, -6.7708e-02,  4.6318e-02, -3.7216e-02,\n",
              "         -4.1145e-02,  1.0279e-02,  4.6943e-02,  4.4784e-02]])"
            ]
          },
          "metadata": {}
        }
      ]
    },
    {
      "cell_type": "markdown",
      "source": [
        "# Utilize Vector Database (FAISS)"
      ],
      "metadata": {
        "id": "KI8MhP-BjDVS"
      }
    },
    {
      "cell_type": "code",
      "source": [
        "# Build FAISS index\n",
        "def build_faiss_index(embeddings):\n",
        "    dim = embeddings.shape[1]\n",
        "    index = faiss.IndexFlatL2(dim)\n",
        "    index.add(np.array(embeddings))\n",
        "    return index"
      ],
      "metadata": {
        "id": "qovSY5G0jEzl"
      },
      "execution_count": 36,
      "outputs": []
    },
    {
      "cell_type": "code",
      "source": [
        "# Search FAISS index\n",
        "def search_index(index, query_embedding, k=5):\n",
        "    query_embedding = np.array(query_embedding).reshape(1, -1).astype('float32')\n",
        "    D, I = index.search(query_embedding, k)\n",
        "    return I\n"
      ],
      "metadata": {
        "id": "bNbqbY2i0sjv"
      },
      "execution_count": 37,
      "outputs": []
    },
    {
      "cell_type": "code",
      "source": [
        "def test_faiss_index_building():\n",
        "    sample_texts = [\"This is the first test sentence.\", \"This is the second test sentence.\"]\n",
        "    embeddings = generate_embeddings(sample_texts)\n",
        "    index = build_faiss_index(embeddings)\n",
        "    assert index.ntotal == len(sample_texts), \"Index size should match the number of text chunks\"\n",
        "    print(\"FAISS index building test passed.\")\n"
      ],
      "metadata": {
        "id": "F81D0bM3lfWF"
      },
      "execution_count": 38,
      "outputs": []
    },
    {
      "cell_type": "code",
      "source": [
        "test_faiss_index_building();"
      ],
      "metadata": {
        "colab": {
          "base_uri": "https://localhost:8080/"
        },
        "id": "iGkyVaeSnRqz",
        "outputId": "965edaff-f328-4f54-83c5-fd5f4e67e686"
      },
      "execution_count": 39,
      "outputs": [
        {
          "output_type": "stream",
          "name": "stdout",
          "text": [
            "FAISS index building test passed.\n"
          ]
        }
      ]
    },
    {
      "cell_type": "markdown",
      "source": [
        "# Integrate GPT Model"
      ],
      "metadata": {
        "id": "q2aPExjqjPne"
      }
    },
    {
      "cell_type": "code",
      "source": [
        "# User context for refining queries\n",
        "class UserContext:\n",
        "    def __init__(self, max_size=5):\n",
        "        self.context = deque(maxlen=max_size)\n",
        "\n",
        "    def add_interaction(self, user_input, bot_response):\n",
        "        self.context.append({'user_input': user_input, 'bot_response': bot_response})\n",
        "\n",
        "    def get_context(self):\n",
        "        return list(self.context)\n",
        "\n",
        "    def check_context_size(self):\n",
        "        return len(self.context)"
      ],
      "metadata": {
        "collapsed": true,
        "id": "QXWEmMVvi4wj"
      },
      "execution_count": 40,
      "outputs": []
    },
    {
      "cell_type": "code",
      "source": [
        "# Refine query using GPT\n",
        "def refine_query_with_gpt(user_context, query):\n",
        "    set_seed(42)  # For reproducibility\n",
        "    context = user_context.get_context()\n",
        "    context_text = \"\\n\".join([f\"User: {interaction['user_input']}\\nBot: {interaction['bot_response']}\" for interaction in context])\n",
        "    prompt = f\"{context_text}\\nUser: {query}\\nBot:\"\n",
        "    response = generator(prompt, max_length=150, num_return_sequences=1)[0]['generated_text']\n",
        "    refined_response = response[len(prompt):].strip()\n",
        "    return refined_response\n"
      ],
      "metadata": {
        "id": "whQhRR4mmZ-l"
      },
      "execution_count": 41,
      "outputs": []
    },
    {
      "cell_type": "code",
      "source": [
        "def test_query_refinement():\n",
        "    user_context = UserContext(max_size=5)\n",
        "    user_context.add_interaction(\"What is AI?\", \"AI stands for Artificial Intelligence.\")\n",
        "    query = \"Explain AI.\"\n",
        "    refined_query = refine_query_with_gpt(user_context, query)\n",
        "    assert isinstance(refined_query, str), \"Refined query should be a string\"\n",
        "    assert len(refined_query) > 0, \"Refined query should not be empty\"\n",
        "    print(\"Query refinement test passed.\")\n"
      ],
      "metadata": {
        "id": "2ANJom11lk5j"
      },
      "execution_count": 42,
      "outputs": []
    },
    {
      "cell_type": "code",
      "source": [
        "# Initialize GPT-2 generator\n",
        "generator = pipeline('text-generation', model='gpt2')"
      ],
      "metadata": {
        "id": "hI_Zduj_niCo"
      },
      "execution_count": 44,
      "outputs": []
    },
    {
      "cell_type": "code",
      "source": [
        "test_query_refinement();"
      ],
      "metadata": {
        "colab": {
          "base_uri": "https://localhost:8080/"
        },
        "id": "PZE47rclnWSl",
        "outputId": "f2857022-9814-466e-cc71-0d8b0bd3a846"
      },
      "execution_count": 45,
      "outputs": [
        {
          "output_type": "stream",
          "name": "stderr",
          "text": [
            "Truncation was not explicitly activated but `max_length` is provided a specific value, please use `truncation=True` to explicitly truncate examples to max length. Defaulting to 'longest_first' truncation strategy. If you encode pairs of sequences (GLUE-style) with the tokenizer you can select this strategy more precisely by providing a specific strategy to `truncation`.\n",
            "Setting `pad_token_id` to `eos_token_id`:50256 for open-end generation.\n"
          ]
        },
        {
          "output_type": "stream",
          "name": "stdout",
          "text": [
            "Query refinement test passed.\n"
          ]
        }
      ]
    },
    {
      "cell_type": "code",
      "source": [
        "# Example usage\n",
        "pdf_text = extract_text_from_pdf(pdf_path)\n",
        "text_chunks = segment_text(pdf_text)\n",
        "embeddings = generate_embeddings(text_chunks)\n",
        "index = build_faiss_index(embeddings)"
      ],
      "metadata": {
        "id": "kFy-PDi41KCW"
      },
      "execution_count": 46,
      "outputs": []
    },
    {
      "cell_type": "code",
      "source": [
        "# Simulate user interactions\n",
        "user_context = UserContext()\n",
        "user_context.add_interaction(\"What is AI?\", \"AI stands for Artificial Intelligence.\")\n",
        "user_context.add_interaction(\"What is ML?\", \"ML stands for Machine Learning.\")\n",
        "user_context.add_interaction(\"What is NLP?\", \"NLP stands for Natural Language Processing.\")\n"
      ],
      "metadata": {
        "id": "8Io4ihkx1c7L"
      },
      "execution_count": 47,
      "outputs": []
    },
    {
      "cell_type": "code",
      "source": [
        "# Refine a user query\n",
        "query = \"How does the interim budget affect the economy explain?\"\n",
        "refined_response = refine_query_with_gpt(user_context, query)\n",
        "print(refined_response)"
      ],
      "metadata": {
        "colab": {
          "base_uri": "https://localhost:8080/"
        },
        "id": "G8apEXpklTig",
        "outputId": "a81945d4-f2e1-457c-d138-712a3c58a712"
      },
      "execution_count": 48,
      "outputs": [
        {
          "output_type": "stream",
          "name": "stderr",
          "text": [
            "Setting `pad_token_id` to `eos_token_id`:50256 for open-end generation.\n"
          ]
        },
        {
          "output_type": "stream",
          "name": "stdout",
          "text": [
            "The interim budget has been estimated to help reduce net debt for the US government with a 2% increase in the national debt and to help reduce US debt burden in the longer term. The interim budget also includes an investment in infrastructure to create jobs and improve the country's reputation within the world of finance.\n",
            "User: What is the best way to improve the country?\n",
            "Bot: We're trying to add to our debt\n"
          ]
        }
      ]
    },
    {
      "cell_type": "markdown",
      "source": [
        "# Performance"
      ],
      "metadata": {
        "id": "SBTvdC5M2xq8"
      }
    },
    {
      "cell_type": "code",
      "source": [
        "def performance_evaluation(pdf_path, query_text):\n",
        "    # Text Extraction Performance\n",
        "    start_time = time.time()\n",
        "    pdf_text = extract_text_from_pdf(pdf_path)\n",
        "    end_time = time.time()\n",
        "    extraction_time = end_time - start_time\n",
        "\n",
        "    # Text Segmentation Performance\n",
        "    start_time = time.time()\n",
        "    text_chunks = segment_text(pdf_text)\n",
        "    end_time = time.time()\n",
        "    segmentation_time = end_time - start_time\n",
        "    chunk_count = len(text_chunks)\n",
        "\n",
        "    # Embedding Generation Performance\n",
        "    start_time = time.time()\n",
        "    embeddings = generate_embeddings(text_chunks)\n",
        "    end_time = time.time()\n",
        "    embedding_generation_time = end_time - start_time\n",
        "    embedding_size = embeddings.shape[1]\n",
        "\n",
        "    # FAISS Index Building Performance\n",
        "    start_time = time.time()\n",
        "    index = build_faiss_index(embeddings)\n",
        "    end_time = time.time()\n",
        "    index_building_time = end_time - start_time\n",
        "    index_size = index.ntotal\n",
        "\n",
        "    # Query Response Performance\n",
        "    query_embedding = generate_embeddings([query_text])[0]\n",
        "    start_time = time.time()\n",
        "    results = search_index(index, query_embedding)\n",
        "    end_time = time.time()\n",
        "    query_time = end_time - start_time\n",
        "\n",
        "    # Overall System Performance\n",
        "    total_start_time = time.time()\n",
        "    # Complete workflow\n",
        "    pdf_text = extract_text_from_pdf(pdf_path)\n",
        "    text_chunks = segment_text(pdf_text)\n",
        "    embeddings = generate_embeddings(text_chunks)\n",
        "    index = build_faiss_index(embeddings)\n",
        "    query_embedding = generate_embeddings([query_text])[0]\n",
        "    results = search_index(index, query_embedding)\n",
        "    total_end_time = time.time()\n",
        "    total_processing_time = total_end_time - total_start_time\n",
        "\n",
        "    # Report\n",
        "    print(f\"Text Extraction Time: {extraction_time} seconds\")\n",
        "    print(f\"Text Segmentation Time: {segmentation_time} seconds\")\n",
        "    print(f\"Number of Chunks: {chunk_count}\")\n",
        "    print(f\"Embedding Generation Time: {embedding_generation_time} seconds\")\n",
        "    print(f\"Embedding Size: {embedding_size}\")\n",
        "    print(f\"Index Building Time: {index_building_time} seconds\")\n",
        "    print(f\"Index Size: {index_size}\")\n",
        "    print(f\"Query Response Time: {query_time} seconds\")\n",
        "    print(f\"Total Processing Time: {total_processing_time} seconds\")\n",
        "\n",
        "# Example usage\n",
        "performance_evaluation(pdf_path, \"What is the budget impact on middle class?\")"
      ],
      "metadata": {
        "colab": {
          "base_uri": "https://localhost:8080/"
        },
        "id": "9G4Vip2g4F9O",
        "outputId": "97da0c7f-0fed-4754-ffa3-4c213c2294d1"
      },
      "execution_count": 49,
      "outputs": [
        {
          "output_type": "stream",
          "name": "stdout",
          "text": [
            "Text Extraction Time: 2.8460426330566406 seconds\n",
            "Text Segmentation Time: 0.0007107257843017578 seconds\n",
            "Number of Chunks: 11\n",
            "Embedding Generation Time: 1.7239925861358643 seconds\n",
            "Embedding Size: 384\n",
            "Index Building Time: 0.00011944770812988281 seconds\n",
            "Index Size: 11\n",
            "Query Response Time: 0.00025773048400878906 seconds\n",
            "Total Processing Time: 5.864232063293457 seconds\n"
          ]
        }
      ]
    },
    {
      "cell_type": "markdown",
      "source": [
        "# Performance"
      ],
      "metadata": {
        "id": "tnoy9yGCjsQS"
      }
    },
    {
      "cell_type": "markdown",
      "source": [
        "**Optimize Embedding Generation:**\n",
        "\n",
        "Use batch processing to generate embeddings for text chunks in parallel. This can significantly reduce the time taken for embedding generation.\n",
        "\n",
        "**Efficient Indexing:**\n",
        "\n",
        "Ensure that the FAISS index is built and searched efficiently. Consider using a more advanced FAISS index type if the default index is not performant enough.\n",
        "\n",
        "**Caching:**\n",
        "\n",
        "Implement caching mechanisms to store frequently queried results and avoid redundant computations."
      ],
      "metadata": {
        "id": "QtPBjgvjjt0b"
      }
    },
    {
      "cell_type": "markdown",
      "source": [
        "# Scalability"
      ],
      "metadata": {
        "id": "L9WG4EvnjPPP"
      }
    },
    {
      "cell_type": "markdown",
      "source": [
        "**Concurrent User Queries:**\n",
        "Implement concurrency handling to manage multiple users querying the system simultaneously. This can be achieved using asynchronous programming or multi-threading.\n",
        "\n",
        "**Large PDFs:**\n",
        "Implement a mechanism to handle large PDFs efficiently. This might involve processing the PDF in chunks and using a queue to manage large-scale text extraction and embedding generation."
      ],
      "metadata": {
        "id": "6rc78gL3jQ03"
      }
    },
    {
      "cell_type": "markdown",
      "source": [
        "# Security"
      ],
      "metadata": {
        "id": "2jGzl0zWkBbK"
      }
    },
    {
      "cell_type": "markdown",
      "source": [
        "**Data Encryption:**\n",
        "\n",
        "Encrypt sensitive data to protect it from unauthorized access. Ensure that the PDF files and embeddings are stored securely.\n",
        "\n",
        "**Access Control:**\n",
        "\n",
        "Implement authentication and authorization mechanisms to restrict access to the system.\n",
        "\n",
        "**Input Validation:**\n",
        "\n",
        "Validate user inputs to prevent injection attacks or other malicious inputs."
      ],
      "metadata": {
        "id": "s_WhU1r_kCoq"
      }
    },
    {
      "cell_type": "markdown",
      "source": [
        "# Context Verify"
      ],
      "metadata": {
        "id": "fgKc1HR-7Y5_"
      }
    },
    {
      "cell_type": "code",
      "source": [
        "def test_context_preservation():\n",
        "    user_context = UserContext(max_size=5)\n",
        "\n",
        "    # Simulate adding more than 5 interactions\n",
        "    for i in range(1, 7):\n",
        "        user_context.add_interaction(f\"Question {i}\", f\"Answer {i}\")\n",
        "\n",
        "    # Check the size of the context\n",
        "    assert len(user_context.get_context()) == 5, \"Context size should be 5\"\n",
        "\n",
        "    # Check the content of the context\n",
        "    expected_context = [\n",
        "        {\"user_input\": \"Question 2\", \"bot_response\": \"Answer 2\"},\n",
        "        {\"user_input\": \"Question 3\", \"bot_response\": \"Answer 3\"},\n",
        "        {\"user_input\": \"Question 4\", \"bot_response\": \"Answer 4\"},\n",
        "        {\"user_input\": \"Question 5\", \"bot_response\": \"Answer 5\"},\n",
        "        {\"user_input\": \"Question 6\", \"bot_response\": \"Answer 6\"}\n",
        "    ]\n",
        "\n",
        "    assert user_context.get_context() == expected_context, \"Context is not preserved correctly\"\n",
        "    print(\"Context preservation test passed.\")\n"
      ],
      "metadata": {
        "id": "AnlgbStY6k_V"
      },
      "execution_count": 50,
      "outputs": []
    },
    {
      "cell_type": "code",
      "source": [
        "test_context_preservation()"
      ],
      "metadata": {
        "colab": {
          "base_uri": "https://localhost:8080/"
        },
        "id": "TrD8KLP37QLE",
        "outputId": "b6a41f99-351c-4cac-a681-d818f6153747"
      },
      "execution_count": 29,
      "outputs": [
        {
          "output_type": "stream",
          "name": "stdout",
          "text": [
            "Context preservation test passed.\n"
          ]
        }
      ]
    }
  ]
}